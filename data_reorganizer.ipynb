{
 "cells": [
  {
   "cell_type": "code",
   "execution_count": 1,
   "metadata": {},
   "outputs": [
    {
     "data": {
      "text/plain": [
       "'test_task/train/2 objects'"
      ]
     },
     "execution_count": 1,
     "metadata": {},
     "output_type": "execute_result"
    }
   ],
   "source": [
    "# small script to reorganize data into train and test folders\n",
    "\n",
    "import os\n",
    "import shutil\n",
    "import numpy as np\n",
    "\n",
    "test_ratio = 0.2\n",
    "\n",
    "\n",
    "data_dir = 'test_task/'\n",
    "one_dir = os.path.join(data_dir, '1 object')\n",
    "two_dir = os.path.join(data_dir, '2 objects')\n",
    "\n",
    "one_names = os.listdir(one_dir)\n",
    "two_names = os.listdir(two_dir)\n",
    "\n",
    "test_dir = os.path.join(data_dir, \"test/\")\n",
    "\n",
    "if not os.path.exists(test_dir):\n",
    "    os.makedirs(test_dir)\n",
    "\n",
    "for name in np.random.choice(one_names, int(len(one_names)*test_ratio), replace = False):\n",
    "    shutil.move(os.path.join(one_dir,name),os.path.join(test_dir, name))\n",
    "\n",
    "\n",
    "for name in np.random.choice(two_names, int(len(two_names)*test_ratio), replace = False):\n",
    "    shutil.move(os.path.join(two_dir, name),os.path.join(test_dir, name))\n",
    "\n",
    "train_dir = os.path.join(data_dir, \"train/\")\n",
    "\n",
    "if not os.path.exists(train_dir):\n",
    "    os.makedirs(train_dir)\n",
    "    \n",
    "    \n",
    "shutil.move(one_dir, train_dir)\n",
    "shutil.move(two_dir, train_dir)"
   ]
  },
  {
   "cell_type": "code",
   "execution_count": null,
   "metadata": {},
   "outputs": [],
   "source": []
  }
 ],
 "metadata": {
  "kernelspec": {
   "display_name": "Python 3",
   "language": "python",
   "name": "python3"
  },
  "language_info": {
   "codemirror_mode": {
    "name": "ipython",
    "version": 3
   },
   "file_extension": ".py",
   "mimetype": "text/x-python",
   "name": "python",
   "nbconvert_exporter": "python",
   "pygments_lexer": "ipython3",
   "version": "3.6.6"
  }
 },
 "nbformat": 4,
 "nbformat_minor": 2
}
